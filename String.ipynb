{
 "cells": [
  {
   "cell_type": "code",
   "execution_count": null,
   "id": "c156d2d5",
   "metadata": {},
   "outputs": [],
   "source": [
    "# Введение в строки в Питоне: https://docs.python.org/3/tutorial/introduction.html"
   ]
  },
  {
   "cell_type": "code",
   "execution_count": 1,
   "id": "925334aa",
   "metadata": {},
   "outputs": [
    {
     "data": {
      "text/plain": [
       "5"
      ]
     },
     "execution_count": 1,
     "metadata": {},
     "output_type": "execute_result"
    }
   ],
   "source": [
    "17 // 3 # floor division discards the fractional part (целая часть )"
   ]
  },
  {
   "cell_type": "code",
   "execution_count": 3,
   "id": "c662e366",
   "metadata": {},
   "outputs": [
    {
     "data": {
      "text/plain": [
       "2"
      ]
     },
     "execution_count": 3,
     "metadata": {},
     "output_type": "execute_result"
    }
   ],
   "source": [
    "17 % 3  # the % operator returns the remainder of the division"
   ]
  },
  {
   "cell_type": "code",
   "execution_count": 4,
   "id": "66effbe4",
   "metadata": {},
   "outputs": [
    {
     "data": {
      "text/plain": [
       "'unununium'"
      ]
     },
     "execution_count": 4,
     "metadata": {},
     "output_type": "execute_result"
    }
   ],
   "source": [
    "3 * 'un' + 'ium' # 3 times 'un', followed by 'ium'"
   ]
  },
  {
   "cell_type": "code",
   "execution_count": 5,
   "id": "57541bae",
   "metadata": {},
   "outputs": [
    {
     "data": {
      "text/plain": [
       "'Python'"
      ]
     },
     "execution_count": 5,
     "metadata": {},
     "output_type": "execute_result"
    }
   ],
   "source": [
    "prefix = 'Py'\n",
    "prefix + 'thon' # If you want to concatenate variables or a variable and a literal, use +:"
   ]
  },
  {
   "cell_type": "code",
   "execution_count": 8,
   "id": "c3136ca5",
   "metadata": {},
   "outputs": [
    {
     "name": "stdout",
     "output_type": "stream",
     "text": [
      "P n\n"
     ]
    }
   ],
   "source": [
    "# a characteris simply a string of size one - символ это строка единичного размера\n",
    "word = 'Python'\n",
    "print (word[0], word[-1])  # first and last characters"
   ]
  },
  {
   "cell_type": "code",
   "execution_count": 9,
   "id": "2426543d",
   "metadata": {},
   "outputs": [
    {
     "data": {
      "text/plain": [
       "'Py'"
      ]
     },
     "execution_count": 9,
     "metadata": {},
     "output_type": "execute_result"
    }
   ],
   "source": [
    "word[0:2]  # characters from position 0 (included) to 2 (excluded)"
   ]
  },
  {
   "cell_type": "code",
   "execution_count": 10,
   "id": "7a3171e7",
   "metadata": {},
   "outputs": [
    {
     "data": {
      "text/plain": [
       "'on'"
      ]
     },
     "execution_count": 10,
     "metadata": {},
     "output_type": "execute_result"
    }
   ],
   "source": [
    "word[:2]   # character from the beginning to position 2 (excluded)\n",
    "word[4:]   # characters from position 4 (included) to the end"
   ]
  },
  {
   "cell_type": "code",
   "execution_count": 11,
   "id": "66e26d18",
   "metadata": {},
   "outputs": [
    {
     "data": {
      "text/plain": [
       "'Jython'"
      ]
     },
     "execution_count": 11,
     "metadata": {},
     "output_type": "execute_result"
    }
   ],
   "source": [
    "# Строки не изменямы (то есть чтобы именить нужно создать новыое заначение)\n",
    "#If you need a different string, you should create a new one:\n",
    "'J' + word[1:]\n",
    "# s[:i] + s[i:] is always equal to s:"
   ]
  },
  {
   "cell_type": "code",
   "execution_count": 18,
   "id": "b64fa4b0",
   "metadata": {},
   "outputs": [
    {
     "name": "stdout",
     "output_type": "stream",
     "text": [
      "I like Python and Java\n",
      "I like Java and Python\n"
     ]
    }
   ],
   "source": [
    "# string.format()\n",
    "t = (\"Java\", \"Python\") \n",
    "print(\"I like {1} and {0}\".format(*t)) \n",
    "l = [\"Haha\", \"Icecream\"] \n",
    "print(\"I like {} and {}\".format(*t))\n"
   ]
  },
  {
   "cell_type": "code",
   "execution_count": 19,
   "id": "2ce617b0",
   "metadata": {},
   "outputs": [
    {
     "name": "stdout",
     "output_type": "stream",
     "text": [
      "I like Haha and Icecream\n"
     ]
    }
   ],
   "source": [
    "t = (\"Java\", \"Python\")\n",
    "print(\"I like {} and {}\".format(*l))"
   ]
  },
  {
   "cell_type": "code",
   "execution_count": 17,
   "id": "ff9cd0c8",
   "metadata": {},
   "outputs": [
    {
     "name": "stdout",
     "output_type": "stream",
     "text": [
      "I like Java and Python\n"
     ]
    }
   ],
   "source": [
    "t = (\"Java\", \"Python\")\n",
    "print(\"I like {} and {}\".format(*t))"
   ]
  },
  {
   "cell_type": "code",
   "execution_count": 21,
   "id": "6446c1c7",
   "metadata": {},
   "outputs": [],
   "source": [
    "# Regular expression operations\n",
    "# Для строк, которые выглядят определенным образом (шаблоны по строке)\n",
    "# https://docs.python.org/3/library/re.html\n",
    "# На руском с примерами: \n",
    "# https://tproger.ru/translations/regular-expression-python/#part0\n",
    "import re"
   ]
  },
  {
   "cell_type": "code",
   "execution_count": null,
   "id": "290bbc20",
   "metadata": {},
   "outputs": [],
   "source": [
    "re.match(pattern, string, flags=0) \n",
    "group(num=0) # этот метод возвращает полное совпадение (или совпадение конкретной подгруппы)\n",
    "# . - заменяет один произв. символ\n",
    "# - задает символ которого не должно быть в скобках\n",
    "# a|b\tСоответствует a или b\n",
    "# * - произвольное число повторений 1 символа\n",
    "# ? - строго одно повторение символа\n",
    "# \\ - логическое ИЛИ. Либо выражение до, либо после\n",
    "# \\w - Любая цифра или буква (\\W — все, кроме буквы или цифры)\n",
    "# \\d -Любая цифра [0-9] (\\D — все, кроме цифры)\n",
    "# \\s - Любой пробельный символ (\\S — любой непробельный символ)\n",
    "# \\b - Граница слова\n",
    "# [..]\tОдин из символов в скобках ([^..] — любой символ, кроме тех, что в скобках)\n",
    "# \\\tЭкранирование специальных символов (\\. означает точку или \\+ — знак «плюс»)\n",
    "# ^ и $\tНачало и конец строки соответственно"
   ]
  },
  {
   "cell_type": "code",
   "execution_count": 28,
   "id": "97d03731",
   "metadata": {
    "scrolled": true
   },
   "outputs": [
    {
     "name": "stdout",
     "output_type": "stream",
     "text": [
      "Analytics\n"
     ]
    }
   ],
   "source": [
    "import re\n",
    "results = re.search(r'Analytics', 'AV Analytics Vidhya AV')\n",
    "#мы используем «r» перед строкой шаблона, чтобы показать, что это «сырая» строка в Python\n",
    "print (results.group(0))\n",
    "# Метод search() ищет по всей строке, но возвращает только первое найденное совпадение."
   ]
  },
  {
   "cell_type": "code",
   "execution_count": 30,
   "id": "1352d1f5",
   "metadata": {},
   "outputs": [
    {
     "name": "stdout",
     "output_type": "stream",
     "text": [
      "['AV', 'AV']\n"
     ]
    }
   ],
   "source": [
    "# e.findall(pattern, string) -Возвращает список всех найденных совпадений\n",
    "result = re.findall(r'AV', 'AV Analytics Vidhya AV')\n",
    "print (result)"
   ]
  },
  {
   "cell_type": "code",
   "execution_count": 31,
   "id": "a57a794e",
   "metadata": {},
   "outputs": [
    {
     "name": "stdout",
     "output_type": "stream",
     "text": [
      "['Anal', 'tics']\n"
     ]
    }
   ],
   "source": [
    "# re.split(pattern, string, [maxsplit=0]) -Этот метод разделяет строку по заданному шаблону.\n",
    "Str = 'Analytics'\n",
    "result = re.split(r'y', Str) # \"y\"- это разделитель\n",
    "print (result)"
   ]
  },
  {
   "cell_type": "code",
   "execution_count": 33,
   "id": "1a32d7cb",
   "metadata": {},
   "outputs": [
    {
     "name": "stdout",
     "output_type": "stream",
     "text": [
      "AV is largest Analytics community of the World\n"
     ]
    }
   ],
   "source": [
    "# re.sub(pattern, repl, string) Ищет шаблон в строке и заменяет его на указанную подстроку. Если шаблон не найден, строка остается неизменной.\n",
    "result = re.sub(r'India', 'the World', 'AV is largest Analytics community of India')\n",
    "print (result) # Нашли India и заменили на WOrd (вот это у ребят самомнение)"
   ]
  },
  {
   "cell_type": "code",
   "execution_count": null,
   "id": "6b76794e",
   "metadata": {},
   "outputs": [],
   "source": [
    "#Используем \\d для извлечения цифр.\n",
    "result = re.findall(r'\\d{2}-\\d{2}-\\d{4}', 'Amit 34-3456 12-05-2007, XYZ 56-4532 11-11-2011, ABC 67-8945 12-01-2009')\n",
    "print result\n"
   ]
  }
 ],
 "metadata": {
  "kernelspec": {
   "display_name": "Python 3",
   "language": "python",
   "name": "python3"
  },
  "language_info": {
   "codemirror_mode": {
    "name": "ipython",
    "version": 3
   },
   "file_extension": ".py",
   "mimetype": "text/x-python",
   "name": "python",
   "nbconvert_exporter": "python",
   "pygments_lexer": "ipython3",
   "version": "3.8.8"
  }
 },
 "nbformat": 4,
 "nbformat_minor": 5
}
